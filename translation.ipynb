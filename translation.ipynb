{
 "cells": [
  {
   "cell_type": "code",
   "execution_count": 22,
   "metadata": {},
   "outputs": [],
   "source": [
    "import json\n"
   ]
  },
  {
   "cell_type": "code",
   "execution_count": 23,
   "metadata": {},
   "outputs": [],
   "source": [
    "# load the AST\n",
    "with open('ast.json') as f:\n",
    "    ast = json.load(f)"
   ]
  },
  {
   "cell_type": "code",
   "execution_count": 24,
   "metadata": {},
   "outputs": [],
   "source": [
    "def parse_expression(expr):\n",
    "    try:\n",
    "        if expr['type'] == 'BinaryExpression':\n",
    "            left = parse_expression(expr['left'])\n",
    "            operator = expr['operator']\n",
    "            right = parse_expression(expr['right'])\n",
    "            return f'({left} {operator} {right})'\n",
    "        elif expr['type'] == 'MemberExpression':\n",
    "            var_name = \"\"\n",
    "            while expr['type'] == 'MemberExpression':\n",
    "                if expr['property']['type'] == 'Identifier':\n",
    "                    var_name = f\"{expr['property']['name']}.{var_name}\"\n",
    "                expr = expr['object']\n",
    "            return var_name.rstrip('.')\n",
    "        elif expr['type'] == 'Identifier':\n",
    "            return expr['name']\n",
    "        elif expr['type'] == 'Literal':\n",
    "            return str(expr['value'])\n",
    "        elif expr['type'] == 'CallExpression' and expr['callee']['type'] == 'MemberExpression' and expr['callee']['object']['type'] == 'ThisExpression' and expr['callee']['property']['type'] == 'Identifier' and expr['callee']['property']['name'] == 'compare':\n",
    "            args = [parse_expression(arg) for arg in expr['arguments']]\n",
    "            return f'({args[0]} < {args[1]})'  # assuming all compares are for less than\n",
    "        else:\n",
    "            raise Exception(f'Unsupported expression type: {expr[\"type\"]}')\n",
    "    except KeyError as e:\n",
    "        print(f\"KeyError: {str(e)}\")\n",
    "        print(f\"expr: {json.dumps(expr, indent=2)}\")\n",
    "        raise"
   ]
  },
  {
   "cell_type": "code",
   "execution_count": 25,
   "metadata": {},
   "outputs": [],
   "source": [
    "def parse_block(block):\n",
    "    for stmt in block:\n",
    "        parse_statement(stmt)"
   ]
  },
  {
   "cell_type": "code",
   "execution_count": 26,
   "metadata": {},
   "outputs": [],
   "source": [
    "def parse_statement(stmt):\n",
    "    if stmt['type'] == 'VariableDeclaration':\n",
    "        for decl in stmt['declarations']:\n",
    "            if decl['init'] is None:\n",
    "                print(f'VAR {decl[\"id\"][\"name\"]}: INT; // assuming INT type by default')\n",
    "            else:\n",
    "                print(f'VAR {decl[\"id\"][\"name\"]}: INT := {parse_expression(decl[\"init\"])};')\n",
    "    elif stmt['type'] == 'ExpressionStatement':\n",
    "        expr = stmt['expression']\n",
    "        if expr['type'] == 'AssignmentExpression':\n",
    "            left = parse_expression(expr['left'])\n",
    "            right = parse_expression(expr['right'])\n",
    "            print(f'{left} := {right};')\n",
    "    elif stmt['type'] == 'IfStatement':\n",
    "        test = parse_expression(stmt['test'])\n",
    "        print(f'IF {test} THEN')\n",
    "        parse_block(stmt['consequent']['body'])\n",
    "        if stmt['alternate'] is not None:\n",
    "            print('ELSE')\n",
    "            if stmt['alternate']['type'] == 'BlockStatement':\n",
    "                parse_block(stmt['alternate']['body'])\n",
    "            else:  # a single statement, not a block\n",
    "                parse_statement(stmt['alternate'])\n",
    "        print('END_IF')\n",
    "    else:\n",
    "        raise Exception(f'Unsupported statement type: {stmt[\"type\"]}')"
   ]
  },
  {
   "cell_type": "code",
   "execution_count": 27,
   "metadata": {},
   "outputs": [
    {
     "name": "stdout",
     "output_type": "stream",
     "text": [
      "VAR z: INT := 5;\n",
      "stage.vars.y := 0;\n",
      "IF ((stage.vars.y < 50) < 0) THEN\n",
      "stage.vars.y := (y + 1);\n",
      "ELSE\n",
      "stage.vars.x := 1;\n",
      "END_IF\n"
     ]
    }
   ],
   "source": [
    "parse_block(ast['body'])"
   ]
  }
 ],
 "metadata": {
  "kernelspec": {
   "display_name": "Python 3",
   "language": "python",
   "name": "python3"
  },
  "language_info": {
   "codemirror_mode": {
    "name": "ipython",
    "version": 3
   },
   "file_extension": ".py",
   "mimetype": "text/x-python",
   "name": "python",
   "nbconvert_exporter": "python",
   "pygments_lexer": "ipython3",
   "version": "3.11.3"
  },
  "orig_nbformat": 4
 },
 "nbformat": 4,
 "nbformat_minor": 2
}
